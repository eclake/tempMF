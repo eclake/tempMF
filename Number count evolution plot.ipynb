{
 "cells": [
  {
   "cell_type": "code",
   "execution_count": 78,
   "metadata": {},
   "outputs": [
    {
     "name": "stdout",
     "output_type": "stream",
     "text": [
      "Populating the interactive namespace from numpy and matplotlib\n"
     ]
    }
   ],
   "source": [
    "%pylab inline"
   ]
  },
  {
   "cell_type": "code",
   "execution_count": 89,
   "metadata": {
    "collapsed": true
   },
   "outputs": [],
   "source": [
    "def schechterMUV(Marr,modelParams):\n",
    "    phi = (np.log(10)/2.5)*modelParams['phiStar']*\\\n",
    "          np.power(10,(-0.4)*(Marr-modelParams['logMstar'])*(1+modelParams['alpha']))*\\\n",
    "          np.exp((-1)*np.power(10,(-0.4)*(Marr-modelParams['logMstar'])))\n",
    "    return np.log10(phi)\n",
    "\n",
    "def schechter(Marr,modelParams):\n",
    "    phi = np.log(10)*modelParams['phiStar']*\\\n",
    "          np.power(10,(Marr-modelParams['logMstar'])*(1+modelParams['alpha']))*\\\n",
    "          np.exp((-1)*np.power(10,(Marr-modelParams['logMstar'])))\n",
    "    return np.log10(phi)\n",
    "\n",
    "def doubleSchechter(Marr,modelParams):\n",
    "    phi = np.log(10)*np.exp((-1)*np.power(10,(Marr-modelParams['logMstar'])))*\\\n",
    "          np.power(10,(Marr-modelParams['logMstar'])) * \\\n",
    "          (10**modelParams['phiStar1']*np.power(10,((Marr-modelParams['logMstar'])*modelParams['alpha1'])) + \\\n",
    "           10**modelParams['phiStar2']*np.power(10,((Marr-modelParams['logMstar'])*modelParams['alpha2'])))\n",
    "    return np.log10(phi)\n",
    "\n",
    "def params_bouwens(redshift):\n",
    "    #I haven't incorporated the exponential in redshift but this shouldn't matter for looking at the z=4 transition\n",
    "    return {'logMstar':(-20.95)+0.02 + (0.01) * (redshift -  6.0), \\\n",
    "            'phiStar': (0.47 - 0.06) * 10**(-0.27 * (redshift - 6.0)) * (10**-3.0), \\\n",
    "            'alpha':-1.87 + (-0.1 * (redshift - 6.0))}\n",
    "\n",
    "#     return {'logMstar':(-20.95)+0.01 + (0.01) * (redshift -  6.0), \\\n",
    "#             'phiStar': (0.47 - 0.02) * 10**(-0.27 * (redshift - 6.0)) * (10**-3.0), \\\n",
    "#             'alpha':-1.87 + (-0.1 * (redshift - 6.0))}\n",
    "\n",
    "\n",
    "def smoothMF(z):\n",
    "    \n",
    "    #the following are the ML params to the dmstar = 0.02 dphistar = 0.06 best-fit model\n",
    "    a0=10.5851169298\n",
    "    a1=-0.102578734948\n",
    "    b0= -2.74364185505\n",
    "    b1= 0.139969051621\n",
    "    b2=  -0.337435294239\n",
    "    c0= -1.36239086197\n",
    "    c1=  1.26032140118\n",
    "    d0=  0.439639772964\n",
    "    d1=-1.1\n",
    "    d2=  -3.5836143076\n",
    "    e0=  0.254735087692\n",
    "    e1=-1.1\n",
    "    e2=  -1.71040802844\n",
    "    \n",
    "#     #the following are the ML fits to the dmstar = 0.1, dphistar = 0.02 tweaked model\n",
    "#     a0=10.5767570358 \n",
    "#     a1=-0.0691892589377\n",
    "#     b0=-2.78277818238 \n",
    "#     b1= 0.159658369933\n",
    "#     b2=-0.33991160336\n",
    "#     c0=-1.23519458859\n",
    "#     c1=1.22852233283\n",
    "#     d0= -0.181595441354 \n",
    "#     d1=-1.1\n",
    "#     d2=-3.1306340676\n",
    "#     e0=0.0813859771148 \n",
    "#     e1=-1.1\n",
    "#     e2=-1.57038677381\n",
    "    \n",
    "    \n",
    "    modelParams = {'logMstar':a0+a1*z, \\\n",
    "                   'phiStar1':b0+b1*z+b2*z**2, \\\n",
    "                   'alpha1':c0+c1*z, \\\n",
    "                   'phiStar2':d0*(1-np.exp(d1*z))+d2, \\\n",
    "                   'alpha2': e0*(1-np.exp(e1*z))+e2}\n",
    "                   #'phiStar2': d0+d1*z+d2*z**2, \\\n",
    "                   #'alpha2': e0+e1*z+e2*z**2}\n",
    "            \n",
    "    modelParams = {'logMstar':a0+a1*z, \\\n",
    "                   'phiStar1':b0+b1*z+b2*z**2+1, \\\n",
    "                   'alpha1':c0+c1*z+1, \\\n",
    "                   'phiStar2':d0*(1-np.exp(d1*z))+d2-0.15, \\\n",
    "                   'alpha2': e0*(1-np.exp(e1*z))+e2-0.03}\n",
    "    return modelParams\n",
    "\n",
    "import scipy.interpolate as interpolate\n",
    "import trapZ \n",
    "def inv_cdf_LumFn(modelParams, MUV_min, MUV_max):\n",
    "    #split MUV range int 10000 bins\n",
    "    MUVarr = np.fromiter((x for x in np.arange(MUV_min,MUV_max,(MUV_max-MUV_min)/100.)),np.float)\n",
    "    lumFn = 10**schechterMUV(MUVarr, modelParams)\n",
    "    cumFn = np.zeros(len(MUVarr))\n",
    "    for i in range(1,len(MUVarr)):\n",
    "        cumFn[i] = trapZ.trapZ(MUVarr[:i],lumFn[:i])\n",
    "    nPerVolElement = np.max(cumFn)\n",
    "    cumFn = cumFn/np.max(cumFn)\n",
    "    pylab.scatter(cumFn, MUVarr)\n",
    "    inv_cdf = interpolate.interp1d(cumFn, MUVarr)\n",
    "    pylab.plot(cumFn, inv_cdf(cumFn))\n",
    "    return inv_cdf,nPerVolElement\n",
    "\n",
    "def inv_cdf_MassFn(modelParams, mass_min, mass_max):\n",
    "    #split MUV range int 10000 bins\n",
    "    massArr = np.fromiter((x for x in np.arange(mass_min,mass_max,(mass_max-mass_min)/100.)),np.float)\n",
    "    #should be integrated from high to low mass\n",
    "    massArr = massArr[::-1]\n",
    "    massFn = 10**doubleSchechter(massArr, modelParams)\n",
    "    cumFn = np.zeros(len(massArr))\n",
    "    for i in range(1,len(massArr)):\n",
    "        cumFn[i] = trapZ.trapZ(massArr[:i],massFn[:i])\n",
    "    nPerVolElement = np.max(cumFn)\n",
    "    cumFn = cumFn/np.max(cumFn)\n",
    "    #pylab.plot(massArr, cumFn)\n",
    "    inv_cdf = interpolate.interp1d(cumFn, massArr)\n",
    "    return inv_cdf,nPerVolElement\n",
    "\n",
    "def assignMUV(massArr, redshift):\n",
    "    a = -0.16187211\n",
    "    b = -0.1937859\n",
    "    c = -4.4856309\n",
    "    intercept = a * (redshift-4)**2 + (b - 2*a*(redshift-4)) * (redshift-4) + c\n",
    "    slope = -1.655536222\n",
    "    scatter = 0.7\n",
    "    randomArr = np.random.normal(size=len(massArr), scale=scatter)\n",
    "    MUV = slope*massArr+intercept+randomArr\n",
    "    return MUV\n",
    "\n",
    "def integrateLumFn(modelParams, MUV1, MUV2):\n",
    "    n = 100.\n",
    "    dMUV = (MUV2 - MUV1)/n\n",
    "    mArr = np.fromiter((x for x in np.arange(MUV1,MUV2,dMUV)), np.float)\n",
    "    phi = np.power(10,schechterMUV(mArr,modelParams))\n",
    "    totalN = 0.\n",
    "    for i in range(np.int(n)):\n",
    "        totalN = totalN + phi[i]*dMUV\n",
    "    return totalN \n",
    "\n",
    "import cosmolopy.distance as cd\n",
    "\n",
    "def integrateVolume(N_per_Mpc3, z1, z2, dx):\n",
    "    #expecting dx in arcminutes \n",
    "    area_arcsec2 = (dx*60)**2\n",
    "    #1 steradian = 1 rad2 = 3282.8 deg2 = 4.25E10 arcsec2\n",
    "    area_solidAngle = area_arcsec2/4.25E10\n",
    "    area_solidAngle = (dx*60.0/206265)**2\n",
    "    n = 1000.\n",
    "    dz = (z2-z1)/n\n",
    "    zArr = np.fromiter((x for x in np.arange(z1,z2,dz)), np.float)\n",
    "    \n",
    "    cosmo = {'omega_M_0' : 0.3, 'omega_lambda_0' : 0.7, 'h' : 0.7}\n",
    "    cosmo = cd.set_omega_k_0(cosmo)\n",
    "    totalVol = 0.\n",
    "    totalN = 0.\n",
    "    for i in range(np.int(n)):\n",
    "        dVc = cd.diff_comoving_volume(zArr[i], **cosmo)\n",
    "        V = dVc * area_solidAngle * dz\n",
    "        totalVol = totalVol + V\n",
    "        totalN = totalN + N_per_Mpc3 * V\n",
    "        \n",
    "    return totalVol,totalN"
   ]
  },
  {
   "cell_type": "code",
   "execution_count": 90,
   "metadata": {
    "scrolled": true
   },
   "outputs": [
    {
     "name": "stdout",
     "output_type": "stream",
     "text": [
      "0.0 249.703169395 0.0 (0.26588400017822511, 0.0065094530590078291)\n",
      "0.1 1608.23275702 22885.6876524 (80.386617279669039, 1.8170277681986258)\n",
      "0.2 3954.53923711 82806.4261695 (276.98306037712399, 6.6050738571951042)\n",
      "0.3 6930.29800784 167673.188425 (551.63938234924694, 13.174887166846611)\n",
      "0.4 10241.9943459 267254.761305 (871.95353624768063, 19.260654002414324)\n",
      "0.5 13664.039858 373450.645081 (1212.3489912253347, 28.171336374213158)\n",
      "0.6 17033.4447601 480233.664633 (1553.8508392785216, 36.341063177224065)\n",
      "0.7 20240.076633 583394.91277 (1883.2499281527989, 43.345835131210414)\n",
      "0.8 23215.5977208 680205.32755 (2192.0153690328875, 50.197572874944953)\n",
      "0.9 25922.9988063 769071.936403 (2475.1989774957697, 56.190415637127586)\n",
      "1.0 28347.6666716 849231.782065 (2730.4644006056278, 64.329729780239617)\n",
      "1.1 30490.2630314 920500.793837 (2957.2930100480376, 69.489187104759651)\n",
      "1.2 32361.3233808 983079.186577 (3156.3699289793976, 72.903783409794954)\n",
      "1.3 33977.3190901 1037407.09325 (3329.1293500659581, 78.564245905028898)\n",
      "1.4 35357.8832141 1084061.27009 (3477.4297019902415, 80.912104306909058)\n",
      "1.5 36523.9199944 1123683.60198 (3603.3291446068706, 86.162978014737647)\n",
      "1.6 37496.3627474 1156933.2861 (3708.9356556346397, 91.228033642852523)\n",
      "1.7 38295.3945289 1184456.12101 (3796.3109398111246, 94.629836915075259)\n",
      "1.8 38939.9911906 1206865.84299 (3867.4122060085833, 97.579149780390154)\n",
      "1.9 39447.6837851 1224733.7499 (3924.0599685412803, 100.10884608783486)\n",
      "2.0 39834.4664153 1238583.88893 (3967.9233016761482, 103.62613398824762)\n",
      "2.1 40114.7975147 1248891.8757 (4000.51646974915, 109.66907425456736)\n",
      "2.2 40301.6585768 1256085.99721 (4023.202698624048, 110.92358130579458)\n",
      "2.3 40406.6458579 1260549.67486 (4037.2021875538776, 114.19110985896495)\n",
      "2.4 40440.0787169 1262624.66545 (4043.602408820936, 117.22275617552934)\n",
      "2.5 40411.1139293 1262614.58928 (4043.369407728223, 120.0966807092951)\n",
      "2.6 40327.8592296 1260788.52169 (4037.3592763692832, 122.19345340372372)\n",
      "2.7 40197.4819974 1257384.48422 (4026.3292900401084, 125.81693612312402)\n",
      "2.8 40026.3107931 1252612.7399 (4010.9484082619183, 127.27486359509489)\n",
      "2.9 39819.9286308 1246658.84225 (3991.8069841591619, 130.33613826546016)\n",
      "3.0 39583.2576363 1239686.41687 (3969.4256184284027, 131.16266097085261)\n",
      "3.1 39320.6352171 1231839.6736 (3944.2631528746801, 133.25627631728634)\n",
      "3.2 39035.8821552 1223245.65851 (3916.7238343431331, 132.92401053391904)\n",
      "3.3 38732.3631896 1214016.26147 (3887.163700384086, 136.41947458144023)\n",
      "3.4 38413.0407259 1204249.99874 (3855.8962483662199, 136.33744853820593)\n",
      "3.5 38080.522331 1194033.59089 (3823.197453570971, 137.08419553045817)\n",
      "3.6 37737.1026538 1183443.35658 (3789.3102014918463, 137.10644982608153)\n",
      "3.7 37384.8003768 1172546.44184 (3754.4481967679189, 137.433445597152)\n",
      "3.8 37025.3907618 1161401.90295 (3718.7994069945225, 137.13690244847828)\n",
      "3.9 36660.434299 1150061.65997 (3682.5290947963504, 136.81185609122181)\n",
      "4.0 36291.3019206\n",
      "4.1 35919.1971913\n",
      "4.2 35545.1758402\n",
      "4.3 35170.1629589\n",
      "4.4 34794.9681504\n",
      "4.5 34420.2988788\n",
      "4.6 34046.7722422\n",
      "4.7 33674.9253586\n",
      "4.8 33305.2245363\n",
      "4.9 32938.0733749\n",
      "5.0 32573.8199281\n",
      "5.1 32212.7630392\n",
      "5.2 31855.1579508\n",
      "5.3 31501.2212735\n",
      "5.4 31151.1353909\n",
      "5.5 30805.0523667\n",
      "5.6 30463.097413\n",
      "5.7 30125.3719699\n",
      "5.8 29791.9564427\n",
      "5.9 29462.9126354\n",
      "6.0 29138.2859151\n",
      "6.1 28818.1071389\n",
      "6.2 28502.3943689\n",
      "6.3 28191.1544004\n",
      "6.4 27884.3841226\n",
      "6.5 27582.0717325\n",
      "6.6 27284.1978163\n",
      "6.7 26990.7363137\n",
      "6.8 26701.655378\n",
      "6.9 26416.9181435\n",
      "7.0 26136.4834091\n",
      "7.1 25860.3062483\n",
      "7.2 25588.3385537\n",
      "7.3 25320.5295212\n",
      "7.4 25056.8260822\n",
      "7.5 24797.1732889\n",
      "7.6 24541.5146565\n",
      "7.7 24289.7924682\n",
      "7.8 24041.9480465\n",
      "7.9 23797.9219935\n"
     ]
    }
   ],
   "source": [
    "import JWST_code as jwst\n",
    "nObj = 500000\n",
    "N_per_Mpc3 = []\n",
    "totalN = []\n",
    "deltaZ = 0.1\n",
    "zArr = np.fromiter((x for x in np.arange(0,8,deltaZ)),np.float)\n",
    "for z in zArr:\n",
    "    if z<4:\n",
    "        modelParams = smoothMF(z+deltaZ/2.)\n",
    "        #calculate inverse cumulative distribution function for the mass function params at the mid-point \n",
    "        #of redshift-bin.  \n",
    "        inv_cdf_mass,nPerVolElement = inv_cdf_MassFn(modelParams, 4, 13)\n",
    "        vol = nObj/nPerVolElement\n",
    "        r = np.random.rand(nObj)\n",
    "        #populate mass function with nObj objects\n",
    "        outputMass = inv_cdf_mass(r)\n",
    "        \n",
    "        #convert to MUV\n",
    "        outputMUV = assignMUV(outputMass, z)\n",
    "        \n",
    "        tempIdx = np.where(outputMUV < -16)\n",
    "        N = len(tempIdx[0])\n",
    "        N_per_Mpc3.append(N/vol)\n",
    "        tempVol, tempN = integrateVolume(N_per_Mpc3[-1],z,z+deltaZ,11)\n",
    "        print z, tempVol, jwst.calc_volume(z,0.01,11*60.0/206265), integrateVolume(N_per_Mpc3[-1],z,z+0.01,11)\n",
    "        totalN.append(tempN)\n",
    "        \n",
    "    else:\n",
    "        #estimate nPerVolElement from Bouwens LF\n",
    "        modelParams = params_bouwens(z)\n",
    "        nPerVolElement = integrateLumFn(modelParams,-24,-16)\n",
    "        #I use the integrated luminosity function to give the number of objects we expect brighter than -16 per Mpc3\n",
    "        #and then integrate the \n",
    "        N_per_Mpc3.append(nPerVolElement)\n",
    "        tempVol, tempN = integrateVolume(N_per_Mpc3[-1],z,z+deltaZ,11)\n",
    "        print z, tempVol\n",
    "        totalN.append(tempN)"
   ]
  },
  {
   "cell_type": "code",
   "execution_count": 91,
   "metadata": {},
   "outputs": [
    {
     "data": {
      "text/plain": [
       "<matplotlib.collections.PathCollection at 0x10a752d50>"
      ]
     },
     "execution_count": 91,
     "metadata": {},
     "output_type": "execute_result"
    },
    {
     "data": {
      "image/png": "[encoded data removed]",
      "text/plain": [
       "<matplotlib.figure.Figure at 0x10a7c9150>"
      ]
     },
     "metadata": {},
     "output_type": "display_data"
    }
   ],
   "source": [
    "pylab.scatter(zArr, N_per_Mpc3)\n"
   ]
  },
  {
   "cell_type": "code",
   "execution_count": 92,
   "metadata": {},
   "outputs": [
    {
     "data": {
      "text/plain": [
       "(2.5, 3.5)"
      ]
     },
     "execution_count": 92,
     "metadata": {},
     "output_type": "execute_result"
    },
    {
     "data": {
      "image/png": "[encoded data removed]",
      "text/plain": [
       "<matplotlib.figure.Figure at 0x10a740590>"
      ]
     },
     "metadata": {},
     "output_type": "display_data"
    }
   ],
   "source": [
    "pylab.scatter(zArr, np.log10(totalN))\n",
    "pylab.xlabel(\"redshift\", fontsize=14)\n",
    "pylab.ylabel(\"N MUV $<$ -16\", fontsize=14)\n",
    "pylab.ylim(2.5,3.5)\n",
    "\n"
   ]
  },
  {
   "cell_type": "code",
   "execution_count": 88,
   "metadata": {},
   "outputs": [
    {
     "data": {
      "text/plain": [
       "<matplotlib.collections.PathCollection at 0x10e108250>"
      ]
     },
     "execution_count": 88,
     "metadata": {},
     "output_type": "execute_result"
    },
    {
     "data": {
      "image/png": "[encoded data removed]",
      "text/plain": [
       "<matplotlib.figure.Figure at 0x10df81bd0>"
      ]
     },
     "metadata": {},
     "output_type": "display_data"
    }
   ],
   "source": [
    "tempMass = np.random.uniform(size=1000)*5+6\n",
    "test = assignMUV(tempMass,4)\n",
    "pylab.scatter(tempMass,test)           "
   ]
  },
  {
   "cell_type": "code",
   "execution_count": null,
   "metadata": {
    "collapsed": true
   },
   "outputs": [],
   "source": []
  }
 ],
 "metadata": {
  "kernelspec": {
   "display_name": "Python 2",
   "language": "python",
   "name": "python2"
  },
  "language_info": {
   "codemirror_mode": {
    "name": "ipython",
    "version": 2
   },
   "file_extension": ".py",
   "mimetype": "text/x-python",
   "name": "python",
   "nbconvert_exporter": "python",
   "pygments_lexer": "ipython2",
   "version": "2.7.11"
  }
 },
 "nbformat": 4,
 "nbformat_minor": 2
}
