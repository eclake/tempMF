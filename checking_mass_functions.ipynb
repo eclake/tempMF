{
 "cells": [
  {
   "cell_type": "code",
   "execution_count": 1,
   "metadata": {},
   "outputs": [
    {
     "name": "stdout",
     "output_type": "stream",
     "text": [
      "Populating the interactive namespace from numpy and matplotlib\n"
     ]
    }
   ],
   "source": [
    "%pylab inline"
   ]
  },
  {
   "cell_type": "markdown",
   "metadata": {},
   "source": [
    "So, I managed to apply the Salpeter -> Chabrier conversion in the wrong direction and now the number counts won't add up unless we re-fit M\\*-MUV.  This was done by using an anchor at z~4 for the slope, intercept and scatter that would convert between the Bouwens luminosity function, and the chosen mass function.\n",
    "\n",
    "We have some choices to make about the exact form of the fitting but for now I want to write the program that determines this anchor.  "
   ]
  },
  {
   "cell_type": "code",
   "execution_count": 2,
   "metadata": {
    "collapsed": true
   },
   "outputs": [],
   "source": [
    "def schechterMUV(Marr,modelParams):\n",
    "    phi = (np.log(10)/2.5)*modelParams['phiStar']*\\\n",
    "          np.power(10,(-0.4)*(Marr-modelParams['logMstar'])*(1+modelParams['alpha']))*\\\n",
    "          np.exp((-1)*np.power(10,(-0.4)*(Marr-modelParams['logMstar'])))\n",
    "    return np.log10(phi)\n",
    "\n",
    "def schechter(Marr,modelParams):\n",
    "    phi = np.log(10)*modelParams['phiStar']*\\\n",
    "          np.power(10,(Marr-modelParams['logMstar'])*(1+modelParams['alpha']))*\\\n",
    "          np.exp((-1)*np.power(10,(Marr-modelParams['logMstar'])))\n",
    "    return np.log10(phi)"
   ]
  },
  {
   "cell_type": "markdown",
   "metadata": {},
   "source": [
    "The Bouwens 2016 luminosity function at z~4 has\n",
    "* M\\* = -20.88\n",
    "* phi\\* = 1.97E-3\n",
    "* alpha = -1.64"
   ]
  },
  {
   "cell_type": "code",
   "execution_count": 73,
   "metadata": {},
   "outputs": [
    {
     "data": {
      "text/plain": [
       "[<matplotlib.lines.Line2D at 0x10b4b5610>]"
      ]
     },
     "execution_count": 73,
     "metadata": {},
     "output_type": "execute_result"
    },
    {
     "data": {
      "image/png": "[encoded data removed]",
      "text/plain": [
       "<matplotlib.figure.Figure at 0x10b441410>"
      ]
     },
     "metadata": {},
     "output_type": "display_data"
    }
   ],
   "source": [
    "MUVarr=np.fromiter((x for x in np.arange(-23,-18,0.2)),np.float)\n",
    "def params_bouwens(redshift,dmstar, dphistar):\n",
    "    return {'logMstar':(-20.95 + dmstar) + (0.01) * (redshift -  6.0), \\\n",
    "            'phiStar': (0.47 - dphistar) * 10**(-0.27 * (redshift - 6.0)) * (10**-3.0), \\\n",
    "            'alpha':-1.87 + (-0.1 * (redshift - 6.0))}\n",
    "\n",
    "bouwens_z4 = params_bouwens(4,0.02,0.06)\n",
    "lumFn = schechterMUV(MUVarr,bouwens_z4)\n",
    "pylab.plot(MUVarr, lumFn)"
   ]
  },
  {
   "cell_type": "code",
   "execution_count": 74,
   "metadata": {
    "collapsed": true
   },
   "outputs": [],
   "source": [
    "import scipy.interpolate as interpolate\n",
    "import trapZ \n",
    "def inv_cdf_LumFn(modelParams, MUV_min, MUV_max):\n",
    "    #split MUV range int 10000 bins\n",
    "    MUVarr = np.fromiter((x for x in np.arange(MUV_min,MUV_max,(MUV_max-MUV_min)/1000.)),np.float)\n",
    "    lumFn = 10**schechterMUV(MUVarr, modelParams)\n",
    "    cumFn = np.zeros(len(MUVarr))\n",
    "    for i in range(1,len(MUVarr)):\n",
    "        cumFn[i] = trapZ.trapZ(MUVarr[:i],lumFn[:i])\n",
    "    nPerVolElement = np.max(cumFn)\n",
    "    cumFn = cumFn/np.max(cumFn)\n",
    "    pylab.scatter(cumFn, MUVarr)\n",
    "    inv_cdf = interpolate.interp1d(cumFn, MUVarr)\n",
    "    pylab.plot(cumFn, inv_cdf(cumFn))\n",
    "    return inv_cdf,nPerVolElement\n"
   ]
  },
  {
   "cell_type": "code",
   "execution_count": 75,
   "metadata": {},
   "outputs": [
    {
     "data": {
      "image/png": "[encoded data removed]",
      "text/plain": [
       "<matplotlib.figure.Figure at 0x10b1d5610>"
      ]
     },
     "metadata": {},
     "output_type": "display_data"
    }
   ],
   "source": [
    "cumFn,nPerVolElementMUV = inv_cdf_LumFn(bouwens_z4, -25,-12)\n"
   ]
  },
  {
   "cell_type": "code",
   "execution_count": 76,
   "metadata": {
    "collapsed": true
   },
   "outputs": [],
   "source": [
    "def doubleSchechter(Marr,modelParams):\n",
    "    phi = np.log(10)*np.exp((-1)*np.power(10,(Marr-modelParams['logMstar'])))*\\\n",
    "          np.power(10,(Marr-modelParams['logMstar'])) * \\\n",
    "          (10**modelParams['phiStar1']*np.power(10,((Marr-modelParams['logMstar'])*modelParams['alpha1'])) + \\\n",
    "           10**modelParams['phiStar2']*np.power(10,((Marr-modelParams['logMstar'])*modelParams['alpha2'])))\n",
    "    return np.log10(phi)"
   ]
  },
  {
   "cell_type": "code",
   "execution_count": 132,
   "metadata": {
    "collapsed": true
   },
   "outputs": [],
   "source": [
    "\n",
    "def smoothMF(z):\n",
    "   \n",
    "#plus my MF\n",
    "    a0=10.5851169298\n",
    "    a1=-0.102578734948\n",
    "    b0= -2.74364185505\n",
    "    b1= 0.139969051621\n",
    "    b2=  -0.337435294239\n",
    "    c0= -1.36239086197\n",
    "    c1=  1.26032140118\n",
    "    d0=  0.439639772964\n",
    "    d1=-1.1\n",
    "    d2=  -3.5836143076\n",
    "    e0=  0.254735087692\n",
    "    e1=-1.1\n",
    "    e2=  -1.71040802844\n",
    "    \n",
    "    modelParams = {'logMstar':a0+a1*z, \\\n",
    "                   'phiStar1':b0+b1*z+b2*z**2, \\\n",
    "                   'alpha1':c0+c1*z, \\\n",
    "                   'phiStar2':d0*(1-np.exp(d1*z))+d2, \\\n",
    "                   'alpha2': e0*(1-np.exp(e1*z))+e2}\n",
    "    \n",
    "#     #I get a better fit with the following tweak\n",
    "#     modelParams = {'logMstar':a0+a1*z, \\\n",
    "#                    'phiStar1':b0+b1*z+b2*z**2+0.5, \\\n",
    "#                    'alpha1':c0+c1*z+0.5, \\\n",
    "#                    'phiStar2':d0*(1-np.exp(d1*z))+d2-0.15, \\\n",
    "#                    'alpha2': e0*(1-np.exp(e1*z))+e2-0.03}\n",
    "    return modelParams\n"
   ]
  },
  {
   "cell_type": "code",
   "execution_count": 133,
   "metadata": {
    "collapsed": true
   },
   "outputs": [],
   "source": [
    "def inv_cdf_MassFn(modelParams, mass_min, mass_max):\n",
    "    #split MUV range int 10000 bins\n",
    "    massArr = np.fromiter((x for x in np.arange(mass_min,mass_max,(mass_max-mass_min)/1000.)),np.float)\n",
    "    #should be integrated from high to low mass\n",
    "    print massArr[:10]\n",
    "    massArr = massArr[::-1]\n",
    "    print massArr[:10]\n",
    "    massFn = 10**doubleSchechter(massArr, modelParams)\n",
    "    cumFn = np.zeros(len(massArr))\n",
    "    for i in range(1,len(massArr)):\n",
    "        cumFn[i] = trapZ.trapZ(massArr[:i],massFn[:i])\n",
    "    nPerVolElement = np.max(cumFn)\n",
    "    cumFn = cumFn/np.max(cumFn)\n",
    "    #pylab.plot(massArr, cumFn)\n",
    "    inv_cdf = interpolate.interp1d(cumFn, massArr)\n",
    "    return inv_cdf,nPerVolElement"
   ]
  },
  {
   "cell_type": "code",
   "execution_count": 134,
   "metadata": {},
   "outputs": [
    {
     "name": "stdout",
     "output_type": "stream",
     "text": [
      "[ 6.     6.007  6.014  6.021  6.028  6.035  6.042  6.049  6.056  6.063]\n",
      "[ 12.993  12.986  12.979  12.972  12.965  12.958  12.951  12.944  12.937\n",
      "  12.93 ]\n"
     ]
    }
   ],
   "source": [
    "mf_z4 = smoothMF(4)\n",
    "inv_cdf_mass,nPerVolElement = inv_cdf_MassFn(mf_z4, 6, 13)"
   ]
  },
  {
   "cell_type": "code",
   "execution_count": 135,
   "metadata": {
    "collapsed": true
   },
   "outputs": [],
   "source": [
    "def assignMUV(massArr, slope, intercept, scatter):\n",
    "    randomArr = np.random.normal(size=len(massArr), scale=scatter)\n",
    "    MUV = slope*massArr+intercept+randomArr\n",
    "    return MUV\n",
    "\n",
    "# def assignMass_flat(MUVarr, slope, intercept, scatter, scatter2, pivotMagnitude):\n",
    "#     randomArr = np.random.normal(size=len(MUVarr), scale=scatter)\n",
    "#     #make scatter increase at certain point\n",
    "#     mass = slope*MUVarr+intercept+randomArr\n",
    "#     tempIdx = np.where(MUVarr <pivotMagnitude)\n",
    "#     mass[tempIdx[0]] = slope*pivotMagnitude+intercept+\\\n",
    "#                         np.random.normal(size=len(tempIdx[0]), scale=scatter2)\n",
    "#     return mass"
   ]
  },
  {
   "cell_type": "code",
   "execution_count": 136,
   "metadata": {
    "collapsed": true
   },
   "outputs": [],
   "source": [
    "import cosmolopy.distance as cd\n",
    "\n",
    "def integrateLumFn(modelParams, MUV1, MUV2):\n",
    "    n = 100.\n",
    "    dMUV = (MUV2 - MUV1)/n\n",
    "    mArr = np.fromiter((x for x in np.arange(MUV1,MUV2,dMUV)), np.float)\n",
    "    phi = np.power(10,schechterMUV(mArr,modelParams))\n",
    "    totalN = 0.\n",
    "    for i in range(np.int(n)):\n",
    "        totalN = totalN + phi[i]*dMUV\n",
    "    return totalN \n",
    "\n",
    "def integrateVolume(N_per_Mpc3, z1, z2, dx):\n",
    "    #expecting dx in arcminutes \n",
    "    area_arcsec2 = (dx*60)**2\n",
    "    #1 steradian = 1 rad2 = 3282.8 deg2 = 4.25E10 arcsec2\n",
    "    area_solidAngle = area_arcsec2/4.25E10\n",
    "    n = 10000.\n",
    "    dz = (z2-z1)/n\n",
    "    zArr = np.fromiter((x for x in np.arange(z1,z2,dz)), np.float)\n",
    "    \n",
    "    cosmo = {'omega_M_0' : 0.3, 'omega_lambda_0' : 0.7, 'h' : 0.7}\n",
    "    cosmo = cd.set_omega_k_0(cosmo)\n",
    "    totalVol = 0.\n",
    "    totalN = 0.\n",
    "    for i in range(np.int(n)):\n",
    "        dVc = cd.diff_comoving_volume(zArr[i], **cosmo)\n",
    "        V = dVc * area_solidAngle * dz\n",
    "        totalVol = totalVol + V\n",
    "        totalN = totalN + N_per_Mpc3 * V\n",
    "        \n",
    "    return totalVol,totalN\n",
    "\n",
    "def integrateVolume_model(modelParams, z1, z2, M1, M2, dx):\n",
    "    #expecting dx in arcminutes \n",
    "    area_arcsec2 = (dx*60)**2\n",
    "    #1 steradian = 1 rad2 = 3282.8 deg2 = 4.25E10 arcsec2\n",
    "    area_solidAngle = area_arcsec2/4.25E10\n",
    "    n = 10000.\n",
    "    dz = (z2-z1)/n\n",
    "    zArr = np.fromiter((x for x in np.arange(z1,z2,dz)), np.float)\n",
    "    \n",
    "    cosmo = {'omega_M_0' : 0.3, 'omega_lambda_0' : 0.7, 'h' : 0.72}\n",
    "    cosmo = cd.set_omega_k_0(cosmo)\n",
    "    totalVol = 0.\n",
    "    totalN = 0.\n",
    "    for i in range(np.int(n)):\n",
    "        dVc = cd.diff_comoving_volume(zArr[i], **cosmo)\n",
    "        massFn_SF = {'logMstar':modelParams['a0'], \\\n",
    "         'phiStar1':modelParams['b0'] + modelParams['b1']*zArr[i] + modelParams['b2']*zArr[i]**2, \\\n",
    "         'alpha1':modelParams['c0'] + modelParams['c1']*zArr[i], \\\n",
    "         'phiStar2':modelParams['d0'] + modelParams['d1']*zArr[i] + modelParams['d2']*zArr[i]**2 , \\\n",
    "         'alpha2':modelParams['e0'] + modelParams['e1']*zArr[i] + modelParams['e2']*zArr[i]**2}\n",
    "        N_per_Mpc3 = integrateLumFn(massFn_SF, M1, M2)\n",
    "        V = dVc * area_solidAngle * dz\n",
    "        totalVol = totalVol + V\n",
    "        totalN = totalN + N_per_Mpc3 * V\n",
    "        \n",
    "    return totalVol,totalN\n",
    "    "
   ]
  },
  {
   "cell_type": "code",
   "execution_count": 137,
   "metadata": {},
   "outputs": [
    {
     "name": "stdout",
     "output_type": "stream",
     "text": [
      "-4.4856309\n"
     ]
    },
    {
     "name": "stderr",
     "output_type": "stream",
     "text": [
      "/Users/efcl2/anaconda/lib/python2.7/site-packages/ipykernel_launcher.py:38: RuntimeWarning: divide by zero encountered in log10\n"
     ]
    },
    {
     "name": "stdout",
     "output_type": "stream",
     "text": [
      "5.875 6.0 0.117096220561 0.000337322079002\n",
      "6.125 6.25 0.0909058368443 0.000331895586012\n",
      "6.375 6.5 0.0703225046984 0.00026264167794\n",
      "6.625 6.75 0.0543622222699 0.000278539774017\n",
      "6.875 7.0 0.041844394275 0.000237253506438\n",
      "7.125 7.25 0.0323147864198 0.000272109305691\n",
      "7.375 7.5 0.024790431553 0.000206984009264\n",
      "7.625 7.75 0.0191078467169 0.00018189594948\n",
      "7.875 8.0 0.0144847969995 0.000113297015869\n",
      "8.125 8.25 0.0108354021129 0.0001691083397\n",
      "8.375 8.5 0.00812034337109 0.000121678346719\n",
      "8.625 8.75 0.00594436450904 0.000126995530327\n",
      "8.875 9.0 0.00427849386334 0.000103627381838\n",
      "9.125 9.25 0.00296752609433 7.49538777413e-05\n",
      "9.375 9.5 0.00196800370691 3.11711677793e-05\n",
      "9.625 9.75 0.00124164271729 5.90433425234e-05\n",
      "9.875 10.0 0.000738777416789 2.81172606157e-05\n",
      "10.125 10.25 0.000408707394442 1.99147260833e-05\n",
      "10.375 10.5 0.000194524025709 2.87610007592e-05\n",
      "10.625 10.75 0.000100366119648 1.35952160367e-05\n",
      "10.875 11.0 2.79369611391e-05 8.57243176601e-06\n",
      "11.125 11.25 1.03470226441e-05 4.11806301694e-06\n",
      "11.375 11.5 2.06940452882e-06 2.45728172917e-06\n"
     ]
    },
    {
     "data": {
      "image/png": "[encoded data removed]",
      "text/plain": [
       "<matplotlib.figure.Figure at 0x10b6575d0>"
      ]
     },
     "metadata": {},
     "output_type": "display_data"
    }
   ],
   "source": [
    "#so I'm going to make measurements for the bouwens z~4 LF transformed into a mass function \n",
    "#using our measured M*-MUV relation\n",
    "\n",
    "deltaBin=0.25\n",
    "binsIn = np.fromiter((x for x in np.arange(6,12,deltaBin)),np.float)-deltaBin/2.\n",
    "nIter = 10 #100\n",
    "plotMF = True\n",
    "\n",
    "a = -0.16187211\n",
    "b = -0.1937859\n",
    "c = -4.4856309\n",
    "\n",
    "z=4\n",
    "current_M_MUV_intercept_z4 = a * (z-4)**2 + (b - 2*a*(z-4)) * (z-4) + c\n",
    "print current_M_MUV_intercept_z4\n",
    "slope = -1.655536222 \n",
    "current_M_MUV_intercept_z4 = current_M_MUV_intercept_z4 - 0.2\n",
    "    \n",
    "# slope_z3 = 0.00903623 * 3**3  - 1.98027122\n",
    "# intercept_z3 = -2.1197531  * 3 + 2.50955433\n",
    "slope_z3 = slope\n",
    "intercept_z3 = current_M_MUV_intercept_z4\n",
    "outputMF = np.zeros([len(binsIn)-1,nIter])\n",
    "\n",
    "for j in range(nIter):\n",
    "    nObj = 1000000\n",
    "    r = np.random.rand(nObj)\n",
    "    outputMUV = cumFn(r)\n",
    "    volMUV = nObj/nPerVolElementMUV\n",
    "\n",
    "\n",
    "    mass_bouwens_lf_flat = assignMUV(outputMUV, 1/slope_z3, \\\n",
    "                                 (-1)*intercept_z3/slope_z3, 0.426)\n",
    "\n",
    "\n",
    "    bins = np.histogram(mass_bouwens_lf_flat,bins=binsIn)\n",
    "    outputMF[:,j] = bins[0]/deltaBin/volMUV\n",
    "    if plotMF:\n",
    "        pylab.scatter(bins[1][:-1]+deltaBin/2., np.log10(bins[0]/volMUV/deltaBin))\n",
    "    else:\n",
    "        pylab.scatter(mass_bouwens_lf_flat, outputMUV)\n",
    "    \n",
    "\n",
    "if not plotMF:\n",
    "    pylab.scatter(data[1].data['mstar'][tempIdx[0]],data[1].data['MUV'][tempIdx[0]], c='r')\n",
    "else:\n",
    "    pylab.plot(np.arange(6,12,0.01), doubleSchechter(np.arange(6,12,0.01), mf_z4),\\\n",
    "               c='r', label=\"z=4\")\n",
    "    \n",
    "legend()\n",
    "pylab.ylim(-6,0)\n",
    "tempMarr = np.fromiter((x for x in np.arange(6,12,0.1)),np.float)\n",
    "avgMF = []\n",
    "avgMF_err = []\n",
    "for i in range(len(bins[0])):\n",
    "    print bins[1][i], bins[1][i]+deltaBin/2., np.median(outputMF[i,:]), np.std(outputMF[i,:])\n",
    "    avgMF.append(np.median(outputMF[i,:]))\n",
    "    avgMF_err.append(np.std(outputMF[i,:]))\n"
   ]
  },
  {
   "cell_type": "code",
   "execution_count": 65,
   "metadata": {},
   "outputs": [
    {
     "name": "stdout",
     "output_type": "stream",
     "text": [
      "{'alpha2': -1.4888004100048329, 'logMstar': 10.174801990008, 'alpha1': 3.67889474275, 'phiStar1': -7.58273035639, 'phiStar2': -3.3493721415635873}\n"
     ]
    }
   ],
   "source": [
    "print mf_z4"
   ]
  },
  {
   "cell_type": "code",
   "execution_count": null,
   "metadata": {
    "collapsed": true
   },
   "outputs": [],
   "source": []
  }
 ],
 "metadata": {
  "kernelspec": {
   "display_name": "Python 2",
   "language": "python",
   "name": "python2"
  },
  "language_info": {
   "codemirror_mode": {
    "name": "ipython",
    "version": 2
   },
   "file_extension": ".py",
   "mimetype": "text/x-python",
   "name": "python",
   "nbconvert_exporter": "python",
   "pygments_lexer": "ipython2",
   "version": "2.7.11"
  }
 },
 "nbformat": 4,
 "nbformat_minor": 2
}
